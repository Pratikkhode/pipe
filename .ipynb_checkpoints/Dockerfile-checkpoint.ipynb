{
 "cells": [
  {
   "cell_type": "code",
   "execution_count": null,
   "id": "f4980b32-c19b-4283-8f69-bc15e3fe5421",
   "metadata": {},
   "outputs": [],
   "source": [
    "FROM redhat/ubi8\n",
    "\n",
    "RUN yum install pyhton3 -y\n",
    "\n",
    "COPY pipline.py/pipline.py\n",
    "\n",
    "CMD [\"pipline.py\",\"/pipline.py\"]"
   ]
  }
 ],
 "metadata": {
  "kernelspec": {
   "display_name": "Python 3 (ipykernel)",
   "language": "python",
   "name": "python3"
  },
  "language_info": {
   "codemirror_mode": {
    "name": "ipython",
    "version": 3
   },
   "file_extension": ".py",
   "mimetype": "text/x-python",
   "name": "python",
   "nbconvert_exporter": "python",
   "pygments_lexer": "ipython3",
   "version": "3.12.7"
  }
 },
 "nbformat": 4,
 "nbformat_minor": 5
}
